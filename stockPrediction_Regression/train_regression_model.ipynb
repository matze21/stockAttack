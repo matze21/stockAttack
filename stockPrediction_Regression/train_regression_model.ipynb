{
 "cells": [
  {
   "cell_type": "code",
   "execution_count": null,
   "metadata": {},
   "outputs": [],
   "source": [
    "%matplotlib notebook\n",
    "import pandas as pd\n",
    "import numpy as np\n",
    "import matplotlib.pyplot as plt\n",
    "import time\n",
    "\n",
    "from sklearn.utils import shuffle\n",
    "from sklearn.utils import class_weight\n",
    "from sklearn.model_selection import train_test_split\n",
    "\n",
    "from xgboost import XGBRegressor, XGBClassifier\n",
    "import xgboost as xgb\n",
    "\n",
    "import tensorflow as tf\n",
    "from tensorflow.keras.layers import Input, Dense, BatchNormalization, Dropout\n",
    "from tensorflow.keras.models import Model\n",
    "from tensorflow.keras.optimizers import Adam\n",
    "from tensorflow.keras import regularizers"
   ]
  },
  {
   "cell_type": "code",
   "execution_count": null,
   "metadata": {},
   "outputs": [],
   "source": [
    "normlized_beyond_mead_data = pd.read_csv('normalized_sampled_data_beyond_meat.csv')"
   ]
  },
  {
   "cell_type": "code",
   "execution_count": null,
   "metadata": {},
   "outputs": [],
   "source": [
    "feature_cols = normlized_beyond_mead_data.columns[normlized_beyond_mead_data.columns.str.startswith('feature')]\n",
    "\n",
    "X_train = normlized_beyond_mead_data[feature_cols].to_numpy()\n",
    "Y_train = normlized_beyond_mead_data.target.to_numpy()\n",
    "\n",
    "X_train, Y_train = shuffle(X_train, Y_train)\n",
    "\n",
    "X_train, X_test, Y_train, Y_test = train_test_split(X_train, Y_train, test_size = 0.1)"
   ]
  },
  {
   "cell_type": "code",
   "execution_count": null,
   "metadata": {},
   "outputs": [],
   "source": [
    "def defineNN_regression(n_inputFeatures):\n",
    "    activation = \"relu\"\n",
    "    regularizationConst_l1 = 0.00000#3\n",
    "    regularizationConst_l2 = 0.00000#3\n",
    "    size = 512\n",
    "    X_input = Input(shape=(n_inputFeatures,))\n",
    "    X = Dropout(0.00, input_shape = (n_inputFeatures,))(X_input)\n",
    " \n",
    "    X = Dense(size, activation=activation, kernel_regularizer=regularizers.l1_l2(l1=regularizationConst_l1, l2=regularizationConst_l2), bias_regularizer=regularizers.l2(regularizationConst_l2), activity_regularizer=regularizers.l2(regularizationConst_l2))(X)\n",
    "    #X = Dropout(dropoutRate, input_shape = (size,))(X)\n",
    "    #X = BatchNormalization(axis = -1)(X)\n",
    "    X = Dense(size, activation=activation, kernel_regularizer=regularizers.l1_l2(l1=regularizationConst_l1, l2=regularizationConst_l2), bias_regularizer=regularizers.l2(regularizationConst_l2), activity_regularizer=regularizers.l2(regularizationConst_l2))(X)\n",
    "    X = Dense(size, activation=activation, kernel_regularizer=regularizers.l1_l2(l1=regularizationConst_l1, l2=regularizationConst_l2), bias_regularizer=regularizers.l2(regularizationConst_l2), activity_regularizer=regularizers.l2(regularizationConst_l2))(X)\n",
    "    X = Dense(size, activation=activation, kernel_regularizer=regularizers.l1_l2(l1=regularizationConst_l1, l2=regularizationConst_l2), bias_regularizer=regularizers.l2(regularizationConst_l2), activity_regularizer=regularizers.l2(regularizationConst_l2))(X)\n",
    "    X = Dense(size, activation=activation, kernel_regularizer=regularizers.l1_l2(l1=regularizationConst_l1, l2=regularizationConst_l2), bias_regularizer=regularizers.l2(regularizationConst_l2), activity_regularizer=regularizers.l2(regularizationConst_l2))(X)\n",
    "\n",
    "    X = Dense(size/4, activation=activation, kernel_regularizer=regularizers.l1_l2(l1=regularizationConst_l1, l2=regularizationConst_l2), bias_regularizer=regularizers.l2(regularizationConst_l2), activity_regularizer=regularizers.l2(regularizationConst_l2))(X)\n",
    "    X = Dense(size/8, activation=activation, kernel_regularizer=regularizers.l1_l2(l1=regularizationConst_l1, l2=regularizationConst_l2), bias_regularizer=regularizers.l2(regularizationConst_l2), activity_regularizer=regularizers.l2(regularizationConst_l2))(X)\n",
    "    X = Dense(size/16, activation=activation, kernel_regularizer=regularizers.l1_l2(l1=regularizationConst_l1, l2=regularizationConst_l2), bias_regularizer=regularizers.l2(regularizationConst_l2), activity_regularizer=regularizers.l2(regularizationConst_l2))(X)\n",
    "    X = Dense(size/32, activation=activation, kernel_regularizer=regularizers.l1_l2(l1=regularizationConst_l1, l2=regularizationConst_l2), bias_regularizer=regularizers.l2(regularizationConst_l2), activity_regularizer=regularizers.l2(regularizationConst_l2))(X)\n",
    "\n",
    "    X = Dense(1, activation=\"linear\")(X)\n",
    "    \n",
    "    model = Model(inputs = X_input, outputs = X, name='deepNN')\n",
    "\n",
    "    return model"
   ]
  },
  {
   "cell_type": "code",
   "execution_count": null,
   "metadata": {},
   "outputs": [],
   "source": [
    "def absError(target, pred):\n",
    "  \"\"\"Calculates how often the max prediction matches one-hot labels.\"\"\"\n",
    "\n",
    "  return tf.reduce_sum(tf.math.abs(target-pred))"
   ]
  },
  {
   "cell_type": "code",
   "execution_count": null,
   "metadata": {},
   "outputs": [],
   "source": [
    "modelNN_reg = defineNN_regression(X_train.shape[1])\n",
    "optAdam    = tf.keras.optimizers.Adam(learning_rate=0.00001, beta_1=0.9, beta_2=0.99)\n",
    "\n",
    "METRICS = [\n",
    "    #absError, \n",
    "    tf.keras.losses.MeanAbsoluteError(),\n",
    "]\n",
    "modelNN_reg.compile(optimizer=optAdam, loss='mean_squared_error', metrics=METRICS)\n",
    "modelNN_reg.load_weights(\"first_0049train_0048test_0027val.h5\")"
   ]
  },
  {
   "cell_type": "code",
   "execution_count": null,
   "metadata": {},
   "outputs": [],
   "source": [
    "history = modelNN_reg.fit(X_train, Y_train, epochs = 50, batch_size = 256*128*4, validation_data=(X_test, Y_test))\n"
   ]
  },
  {
   "cell_type": "code",
   "execution_count": null,
   "metadata": {},
   "outputs": [],
   "source": [
    "# Get training and test loss histories\n",
    "training_loss = history.history['loss']\n",
    "test_loss = history.history['val_loss']\n",
    "\n",
    "# Create count of the number of epochs\n",
    "epoch_count = range(1, len(training_loss) + 1)\n",
    "\n",
    "# Visualize loss history\n",
    "#print(history.history)\n",
    "fig = plt.figure()\n",
    "plt.plot(epoch_count, training_loss, 'r--')\n",
    "plt.plot(epoch_count, test_loss, 'b-')\n",
    "plt.legend(['Training Loss', 'Test Loss'])\n",
    "plt.xlabel('Epoch')\n",
    "plt.ylabel('Loss')\n",
    "plt.show()"
   ]
  },
  {
   "cell_type": "code",
   "execution_count": null,
   "metadata": {},
   "outputs": [],
   "source": [
    "modelNN_reg.save_weights(\"first_0049train_0048test_0027val.h5\")"
   ]
  },
  {
   "cell_type": "code",
   "execution_count": null,
   "metadata": {},
   "outputs": [],
   "source": [
    "normlized_tesla_data = pd.read_csv('normalized_sampled_data_tesla.csv')"
   ]
  },
  {
   "cell_type": "code",
   "execution_count": null,
   "metadata": {},
   "outputs": [],
   "source": [
    "def evaluatePerformance(normalized_data):\n",
    "    X_val = normalized_data[feature_cols].to_numpy()\n",
    "    Y_val = np.reshape(normalized_data.target.to_numpy(), (X_val.shape[0], 1))\n",
    "\n",
    "    pred = modelNN_reg.predict(X_val)\n",
    "    normalizedValue = np.reshape(normalized_data['normalizeValue'].to_numpy(), (pred.shape[0], 1))\n",
    "    \n",
    "    \n",
    "    Y_val_abs = np.multiply(Y_val, normalizedValue)\n",
    "    pred_abs  = np.multiply(pred, normalizedValue)\n",
    "    \n",
    "    absError = np.sum(np.abs(Y_val_abs - pred_abs))\n",
    "    relError = np.sum(np.abs(Y_val - pred))\n",
    "    print(absError, relError)\n",
    "    print(absError/len(pred_abs), relError/len(pred_abs))\n",
    "    \n",
    "    timestamps = np.linspace(0, pred_abs.shape[0]-1, pred_abs.shape[0])\n",
    "    \n",
    "    index = 200\n",
    "    delta = 200\n",
    "#     plt.subplot(211)\n",
    "#     plt.plot(timestamps[index:index + delta], pred_abs[index:index + delta], 'r--')\n",
    "#     plt.plot(timestamps[index:index + delta], Y_val_abs[index:index + delta], 'b-')\n",
    "#     plt.legend(['prediction', 'groundTruth'])\n",
    "#     plt.xlabel('timestamps')\n",
    "#     plt.ylabel('value')\n",
    "#     plt.show()\n",
    "    \n",
    "    #plt.subplot(212)\n",
    "    fig = plt.figure()\n",
    "    plt.plot(timestamps, pred_abs, 'r--')\n",
    "    plt.plot(timestamps, Y_val_abs, 'b-')\n",
    "    plt.legend(['prediction', 'groundTruth'])\n",
    "    plt.xlabel('timestamps')\n",
    "    plt.ylabel('value')\n",
    "    plt.show()"
   ]
  },
  {
   "cell_type": "code",
   "execution_count": null,
   "metadata": {},
   "outputs": [],
   "source": [
    "evaluatePerformance(normlized_beyond_mead_data)"
   ]
  },
  {
   "cell_type": "code",
   "execution_count": null,
   "metadata": {},
   "outputs": [],
   "source": [
    "evaluatePerformance(normlized_tesla_data)"
   ]
  },
  {
   "cell_type": "code",
   "execution_count": null,
   "metadata": {},
   "outputs": [],
   "source": []
  }
 ],
 "metadata": {
  "kernelspec": {
   "display_name": "Python 3",
   "language": "python",
   "name": "python3"
  },
  "language_info": {
   "codemirror_mode": {
    "name": "ipython",
    "version": 3
   },
   "file_extension": ".py",
   "mimetype": "text/x-python",
   "name": "python",
   "nbconvert_exporter": "python",
   "pygments_lexer": "ipython3",
   "version": "3.7.3"
  }
 },
 "nbformat": 4,
 "nbformat_minor": 2
}
